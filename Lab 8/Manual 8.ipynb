{
  "cells": [
    {
      "cell_type": "markdown",
      "metadata": {
        "id": "wzZPdXnQSwdl"
      },
      "source": [
        "---\n",
        "#   **Task 1**"
      ]
    },
    {
      "cell_type": "code",
      "execution_count": 2,
      "metadata": {
        "colab": {
          "base_uri": "https://localhost:8080/"
        },
        "id": "kvWu-w0UStg-",
        "outputId": "b5e975a2-bcdf-4a83-ce1f-05f9b83a9f5b"
      },
      "outputs": [
        {
          "name": "stdout",
          "output_type": "stream",
          "text": [
            "Trained weights for AND gate: [-0.2, 0.2, 0.1]\n",
            "Trained Weights for OR Gate:  [-0.1, 0.1, 0.1]\n"
          ]
        }
      ],
      "source": [
        "def stepFunction(x):\n",
        "    return 1 if x >= 0 else 0\n",
        "\n",
        "def trainPerceptron(gate, weights, epochs=10, learningRate=0.1):\n",
        "    if len(weights) != 3:\n",
        "        print(\"Invalid Input!\\n\")\n",
        "        exit()\n",
        "\n",
        "    bias, w1, w2 = weights\n",
        "\n",
        "    for _ in range(epochs):\n",
        "        for input_str, expected in gate.items():\n",
        "            x1, x2 = map(int, input_str.split())\n",
        "            net = x1 * w1 + x2 * w2 + bias\n",
        "            out = stepFunction(net)\n",
        "\n",
        "            if out != expected:\n",
        "                error = expected - out\n",
        "                bias += learningRate * error * 1\n",
        "                w1 += learningRate * error * x1\n",
        "                w2 += learningRate * error * x2\n",
        "\n",
        "    return [round(bias, 2), round(w1, 2), round(w2, 2)]\n",
        "\n",
        "ANDGate = {\n",
        "    \"0 0\": 0,\n",
        "    \"0 1\": 0,\n",
        "    \"1 0\": 0,\n",
        "    \"1 1\": 1\n",
        "}\n",
        "\n",
        "ORGate = {\n",
        "    \"0 0\": 0,\n",
        "    \"0 1\": 1,\n",
        "    \"1 0\": 1,\n",
        "    \"1 1\": 1\n",
        "}\n",
        "\n",
        "finalWeights = trainPerceptron(ANDGate, [0, 0, 0])\n",
        "print(\"Trained weights for AND gate:\", finalWeights)\n",
        "\n",
        "finalWeights = trainPerceptron(ORGate, [0, 0, 0])\n",
        "print(\"Trained Weights for OR Gate: \", finalWeights)"
      ]
    },
    {
      "cell_type": "markdown",
      "metadata": {
        "id": "G8MMDA30Sof-"
      },
      "source": [
        "---\n",
        "#   **Task 2**"
      ]
    },
    {
      "cell_type": "code",
      "execution_count": 1,
      "metadata": {
        "colab": {
          "base_uri": "https://localhost:8080/"
        },
        "id": "DGH-YIYSSOhL",
        "outputId": "64bc9bfa-808d-476e-c893-9d750fa77188"
      },
      "outputs": [
        {
          "name": "stderr",
          "output_type": "stream",
          "text": [
            "/usr/local/lib/python3.11/dist-packages/keras/src/layers/core/dense.py:87: UserWarning: Do not pass an `input_shape`/`input_dim` argument to a layer. When using Sequential models, prefer using an `Input(shape)` object as the first layer in the model instead.\n",
            "  super().__init__(activity_regularizer=activity_regularizer, **kwargs)\n"
          ]
        },
        {
          "name": "stdout",
          "output_type": "stream",
          "text": [
            "\u001b[1m1/1\u001b[0m \u001b[32m━━━━━━━━━━━━━━━━━━━━\u001b[0m\u001b[37m\u001b[0m \u001b[1m0s\u001b[0m 62ms/step\n",
            "Predictions:\n",
            "[1 0 1 1]\n",
            "Accuracy on XOR dataset: 25.0 %\n"
          ]
        }
      ],
      "source": [
        "import numpy as np\n",
        "from tensorflow.keras.models import Sequential\n",
        "from tensorflow.keras.layers import Dense\n",
        "from tensorflow.keras.optimizers import Adam\n",
        "from sklearn.metrics import accuracy_score\n",
        "\n",
        "X = np.array([[0, 0],\n",
        "              [0, 1],\n",
        "              [1, 0],\n",
        "              [1, 1]])\n",
        "y = np.array([[0],\n",
        "              [1],\n",
        "              [1],\n",
        "              [0]])\n",
        "\n",
        "model = Sequential([\n",
        "    Dense(2, input_dim=2, activation='relu'),\n",
        "    Dense(1, activation='sigmoid')\n",
        "])\n",
        "\n",
        "model.compile(optimizer=Adam(),\n",
        "              loss='binary_crossentropy',\n",
        "              metrics=['accuracy'])\n",
        "\n",
        "model.fit(X, y, epochs=500, verbose=0)\n",
        "\n",
        "predictions = model.predict(X)\n",
        "predicted_labels = (predictions > 0.5).astype(int)\n",
        "\n",
        "accuracy = accuracy_score(y, predicted_labels)\n",
        "print(\"Predictions:\")\n",
        "print(predicted_labels.flatten())\n",
        "print(\"Accuracy on XOR dataset:\", round(accuracy * 100, 2), \"%\")\n"
      ]
    }
  ],
  "metadata": {
    "colab": {
      "provenance": []
    },
    "kernelspec": {
      "display_name": "Python 3",
      "name": "python3"
    },
    "language_info": {
      "name": "python",
      "version": "3.10.12"
    }
  },
  "nbformat": 4,
  "nbformat_minor": 0
}
