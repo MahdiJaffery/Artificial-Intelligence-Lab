{
 "cells": [
  {
   "cell_type": "code",
   "execution_count": 2,
   "metadata": {},
   "outputs": [
    {
     "name": "stdout",
     "output_type": "stream",
     "text": [
      "Area of the triangle is:  9\n"
     ]
    }
   ],
   "source": [
    "#   Question 1\n",
    "height = float(input(\"Enter Height of the triangle: \"))\n",
    "base = float(input(\"Enter Base of the triangle: \"))\n",
    "\n",
    "area = 0.5 * height * base\n",
    "print(\"Area of the triangle is: \", int(area))"
   ]
  },
  {
   "cell_type": "code",
   "execution_count": 4,
   "metadata": {},
   "outputs": [
    {
     "name": "stdout",
     "output_type": "stream",
     "text": [
      "Payable: $75\n",
      "Discount Applied: 20%\n",
      "Payable: $ 60.0\n"
     ]
    }
   ],
   "source": [
    "#  Question 2\n",
    "vehicles = ['car','motorcycle','truck']\n",
    "\n",
    "vehicle = str(input(\"Enter a vehicle (car, motorcycle, truck): \"))\n",
    "vehicle = vehicle.lower()\n",
    "\n",
    "if vehicle not in vehicles:\n",
    "    print(\"Invalid vehicle\")\n",
    "    exit()\n",
    "\n",
    "hours = int(input(\"Enter the number of hours: \"))\n",
    "newHours = 0\n",
    "\n",
    "print(\"Payable: $\", end=\"\")\n",
    "if vehicle == 'car':\n",
    "    newHours = hours * 5\n",
    "    print(newHours)\n",
    "elif vehicle == 'motorcycle':\n",
    "    newHours = hours * 2\n",
    "    print(newHours)\n",
    "else:\n",
    "    newHours = hours * 10\n",
    "    print(newHours)\n",
    "\n",
    "if hours > 10:\n",
    "    print(\"Discount Applied: 20%\")\n",
    "    newHours = newHours * 0.8\n",
    "    print(\"Payable: $\", newHours)"
   ]
  },
  {
   "cell_type": "code",
   "execution_count": null,
   "metadata": {},
   "outputs": [
    {
     "name": "stdout",
     "output_type": "stream",
     "text": [
      "Sum [1, 5]:  15\n"
     ]
    }
   ],
   "source": [
    "# Question 3\n",
    "number = int(input(\"Enter a number: \"))\n",
    "\n",
    "if number < 0:\n",
    "    print(\"Negative Input Detected\")\n",
    "    exit()\n",
    "\n",
    "sum = 0\n",
    "for i in range(number + 1):\n",
    "    sum += i\n",
    "\n",
    "print(f\"Sum [1, {number}]: \", sum)"
   ]
  },
  {
   "cell_type": "code",
   "execution_count": 7,
   "metadata": {},
   "outputs": [
    {
     "name": "stdout",
     "output_type": "stream",
     "text": [
      "Sum [1, 5]:  15\n"
     ]
    }
   ],
   "source": [
    "#  Question 4\n",
    "number = int(input(\"Enter a number: \"))\n",
    "\n",
    "if number < 0:\n",
    "    print(\"Negative Input Detected\")\n",
    "    exit()\n",
    "\n",
    "sum = 0\n",
    "counter = 0\n",
    "\n",
    "while counter <= number:\n",
    "    sum += counter\n",
    "    counter += 1\n",
    "\n",
    "print(f\"Sum [1, {number}]: \", sum)"
   ]
  },
  {
   "cell_type": "code",
   "execution_count": 9,
   "metadata": {},
   "outputs": [
    {
     "name": "stdout",
     "output_type": "stream",
     "text": [
      "Palindrome\n"
     ]
    }
   ],
   "source": [
    "#   Question 5\n",
    "string = str(input(\"Enter a string: \"))\n",
    "string = string.lower()\n",
    "\n",
    "if string == string[::-1]:\n",
    "    print(\"Palindrome\")\n",
    "else:\n",
    "    print(\"Not Palindrome\")"
   ]
  },
  {
   "cell_type": "code",
   "execution_count": 10,
   "metadata": {},
   "outputs": [
    {
     "name": "stdout",
     "output_type": "stream",
     "text": [
      "Original String:  Hello World!\n",
      "String without vowels:  Hll Wrld!\n"
     ]
    }
   ],
   "source": [
    "#   Question 6\n",
    "def removeVowels(string):\n",
    "    vowels = ['a','e','i','o','u', 'A', 'E', 'I', 'O', 'U']\n",
    "\n",
    "    for vowel in vowels:\n",
    "        string = string.replace(vowel, '')\n",
    "    \n",
    "    return string\n",
    "\n",
    "string = str(input(\"Enter a string: \"))\n",
    "\n",
    "print(\"Original String: \", string)\n",
    "print(\"String without vowels: \", removeVowels(string))\n"
   ]
  }
 ],
 "metadata": {
  "kernelspec": {
   "display_name": "Python 3",
   "language": "python",
   "name": "python3"
  },
  "language_info": {
   "codemirror_mode": {
    "name": "ipython",
    "version": 3
   },
   "file_extension": ".py",
   "mimetype": "text/x-python",
   "name": "python",
   "nbconvert_exporter": "python",
   "pygments_lexer": "ipython3",
   "version": "3.10.12"
  }
 },
 "nbformat": 4,
 "nbformat_minor": 2
}
