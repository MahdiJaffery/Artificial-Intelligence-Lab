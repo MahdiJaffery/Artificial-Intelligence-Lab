{
  "cells": [
    {
      "cell_type": "markdown",
      "source": [
        "#Task 1"
      ],
      "metadata": {
        "id": "TEziJUKUWTt5"
      }
    },
    {
      "cell_type": "code",
      "source": [
        "import random\n",
        "\n",
        "Values = [(7, 5), (2, 4), (1, 7), (9, 2)]\n",
        "Population = [[random.randint(0, 1) for i in range(4)] for j in range(20)]\n",
        "\n",
        "def Fitness(chromosome):\n",
        "    curWeight, curVal = 0, 0\n",
        "    for gene, (value, weight) in zip(chromosome, Values):\n",
        "        if gene:\n",
        "            curWeight += weight\n",
        "            curVal += value\n",
        "\n",
        "    return curVal if curVal <= 15 else 0\n",
        "\n",
        "def crossover(childOne, childTwo):\n",
        "    ind = random.randint(0, len(Values) - 1)\n",
        "    return childOne[:ind] + childTwo[ind:], childTwo[:ind] + childOne[ind:]\n",
        "\n",
        "def mutate(chromosome):\n",
        "    ind = random.randint(0, 3)\n",
        "    chromosome[ind] = 1 if chromosome[ind] == 0 else 0\n",
        "    return chromosome\n",
        "\n",
        "def LinearRankingSelection(Population):\n",
        "    sortedPop = sorted(Population, key=Fitness)\n",
        "    n = len(sortedPop)\n",
        "\n",
        "    # (2 - s)/n + 2i(s - 1)/(n(n - 1)), where s is selection pressure\n",
        "    s = 1.7\n",
        "    probs = [(2 - s)/n + 2*i*(s - 1)/(n*(n - 1)) for i in range(n)]\n",
        "\n",
        "    r = random.random()\n",
        "    cumulative = 0\n",
        "    for ind, p in zip(sortedPop, probs):\n",
        "        cumulative += p\n",
        "        if r < cumulative:\n",
        "            return ind\n",
        "    return sortedPop[-1]\n",
        "\n",
        "\n",
        "def BinaryKnapsack(Population):\n",
        "    for i in range(50):\n",
        "        sortedPopulation = sorted(Population, key = Fitness, reverse = True)[:int(0.4*len(Population))]\n",
        "\n",
        "        while len(sortedPopulation) < 20:\n",
        "            parentOne, parentTwo = LinearRankingSelection(sortedPopulation), LinearRankingSelection(sortedPopulation)\n",
        "            childOne, childTwo = crossover(parentOne, parentTwo)\n",
        "\n",
        "            if random.random() < 0.1:\n",
        "                childOne = mutate(childOne)\n",
        "            if random.random() < 0.1:\n",
        "                childTwo = mutate(childTwo)\n",
        "\n",
        "            sortedPopulation.extend([childOne, childTwo])\n",
        "\n",
        "        Population = sortedPopulation\n",
        "    bestChromosome = max(sortedPopulation, key = Fitness)\n",
        "    bestVal = Fitness(bestChromosome)\n",
        "\n",
        "    return bestChromosome, bestVal"
      ],
      "metadata": {
        "id": "8rgnI18nWVx3"
      },
      "execution_count": 12,
      "outputs": []
    },
    {
      "cell_type": "code",
      "source": [
        "Chromosome, Value = BinaryKnapsack(Population)\n",
        "\n",
        "print(f\"Best Chromosome: {Chromosome}\\nValue: {Value}\")"
      ],
      "metadata": {
        "colab": {
          "base_uri": "https://localhost:8080/"
        },
        "id": "UjNj_mJYWZjE",
        "outputId": "e0c75017-0281-4418-fd05-13821a16eb7a"
      },
      "execution_count": 13,
      "outputs": [
        {
          "output_type": "stream",
          "name": "stdout",
          "text": [
            "Best Chromosome: [0, 1, 1, 1]\n",
            "Value: 12\n"
          ]
        }
      ]
    },
    {
      "cell_type": "markdown",
      "source": [
        "#Task 2 (Without Pruning)"
      ],
      "metadata": {
        "id": "pXkhHjIZWbeF"
      }
    },
    {
      "cell_type": "code",
      "source": [
        "import math\n",
        "\n",
        "def MiniMax(score, turn):\n",
        "    #   True for Player, False for AI\n",
        "    if score >= 14:\n",
        "        return -1 if turn else 1\n",
        "\n",
        "    if turn:\n",
        "        bestMove = -math.inf\n",
        "        for move in [1, 2, 3]:\n",
        "            currentScore = MiniMax(score + move, not turn)\n",
        "            bestMove = max(bestMove, currentScore)\n",
        "        return bestMove\n",
        "    else:\n",
        "        bestMove = math.inf\n",
        "        for move in [1, 2, 3]:\n",
        "            currentScore = MiniMax(score + move, not turn)\n",
        "            bestMove = min(bestMove, currentScore)\n",
        "        return bestMove\n",
        "\n",
        "\n",
        "def bestMoveForAI(score):\n",
        "    bestMove = 0\n",
        "    bestScore = math.inf\n",
        "\n",
        "    for move in [1, 2, 3]:\n",
        "        if move + score <= 14:\n",
        "            result = MiniMax(score + move, True)\n",
        "            if bestScore > result:\n",
        "                bestScore = result\n",
        "                bestMove = move\n",
        "    return bestMove\n",
        "\n",
        "def Game(score = 14):\n",
        "    turn = True\n",
        "\n",
        "    currentScore = 0\n",
        "\n",
        "    while currentScore < 14:\n",
        "        if turn:\n",
        "            move = int(input(f\"Current Score: {currentScore}\\tEnter a number [1, 2, 3]: \"))\n",
        "            if move not in [1, 2, 3]:\n",
        "                print(\"Invalid move. Try again.\")\n",
        "                continue\n",
        "            currentScore += move\n",
        "            turn = not turn\n",
        "        else:\n",
        "            move = bestMoveForAI(currentScore)\n",
        "            currentScore += move\n",
        "            turn = not turn\n",
        "            print(f\"Current Score: {currentScore}\\tAI chose to add {move}\")\n",
        "\n",
        "    if not turn:\n",
        "        print(\"You have defeated my AI! Congratulations!\")\n",
        "    else:\n",
        "        print(\"Better Luck Next Time!\")\n",
        "\n",
        "Game()"
      ],
      "metadata": {
        "colab": {
          "base_uri": "https://localhost:8080/"
        },
        "id": "FZMdFRreWeKy",
        "outputId": "48197afc-d015-46a9-de74-4b38c705ec4d"
      },
      "execution_count": 14,
      "outputs": [
        {
          "output_type": "stream",
          "name": "stdout",
          "text": [
            "Current Score: 0\tEnter a number [1, 2, 3]: 3\n",
            "Current Score: 6\tAI chose to add 3\n",
            "Current Score: 6\tEnter a number [1, 2, 3]: 3\n",
            "Current Score: 10\tAI chose to add 1\n",
            "Current Score: 10\tEnter a number [1, 2, 3]: 1\n",
            "Current Score: 14\tAI chose to add 3\n",
            "Better Luck Next Time!\n"
          ]
        }
      ]
    },
    {
      "cell_type": "markdown",
      "source": [
        "#Task 3 (Alpha Beta Pruning)"
      ],
      "metadata": {
        "id": "rB8b4lsAWjPW"
      }
    },
    {
      "cell_type": "code",
      "source": [
        "import math\n",
        "\n",
        "def MiniMaxAlphaBeta(score, turn, alpha, beta):\n",
        "    if score >= 14:\n",
        "        return -1 if turn else 1\n",
        "\n",
        "    if turn:\n",
        "        bestMove = -math.inf\n",
        "        for move in [1, 2, 3]:\n",
        "            currentScore = MiniMaxAlphaBeta(score + move, not turn, alpha, beta)\n",
        "            bestMove = max(bestMove, currentScore)\n",
        "            alpha = max(alpha, bestMove)\n",
        "            if alpha >= beta:\n",
        "                break\n",
        "        return bestMove\n",
        "    else:\n",
        "        bestMove = math.inf\n",
        "        for move in [1, 2, 3]:\n",
        "            currentScore = MiniMaxAlphaBeta(score + move, not turn, alpha, beta)\n",
        "            bestMove = min(bestMove, currentScore)\n",
        "            beta = min(beta, bestMove)\n",
        "            if beta <= alpha:\n",
        "                break\n",
        "        return bestMove\n",
        "\n",
        "\n",
        "def bestMoveForAIAlphaBeta(score):\n",
        "    bestMove = 0\n",
        "    bestScore = math.inf\n",
        "\n",
        "    alpha = -math.inf\n",
        "    beta = math.inf\n",
        "\n",
        "    for move in [1, 2, 3]:\n",
        "        if move + score <= 14:\n",
        "            result = MiniMaxAlphaBeta(score + move, True, alpha, beta)\n",
        "            if bestScore > result:\n",
        "                bestScore = result\n",
        "                bestMove = move\n",
        "    return bestMove\n",
        "\n",
        "def GameAlphaBeta():\n",
        "    turn = True\n",
        "    score = 14\n",
        "    currentScore = 0\n",
        "\n",
        "    while currentScore < score:\n",
        "        if turn:\n",
        "            move = int(input(f\"Current Score: {currentScore}.\\tEnter your Move [1, 2, 3]\"))\n",
        "            if move not in [1, 2, 3]:\n",
        "                print(\"Invalid Move! Try Again.\")\n",
        "                continue\n",
        "            currentScore += move\n",
        "            turn = not turn\n",
        "        else:\n",
        "            move = bestMoveForAIAlphaBeta(currentScore)\n",
        "            currentScore += move\n",
        "            turn = not turn\n",
        "            print(f\"Current Score: {currentScore}\\tAI chose to add {move}\")\n",
        "\n",
        "    if not turn:\n",
        "        print(\"You have defeated my AI! Congratulations!\")\n",
        "    else:\n",
        "        print(\"Better Luck Next Time!\")\n",
        "\n",
        "GameAlphaBeta()"
      ],
      "metadata": {
        "colab": {
          "base_uri": "https://localhost:8080/"
        },
        "id": "xFMUxBchWmn6",
        "outputId": "ca7fb9f2-ea6e-41b1-fd5d-00f3aaa71ef9"
      },
      "execution_count": 15,
      "outputs": [
        {
          "output_type": "stream",
          "name": "stdout",
          "text": [
            "Current Score: 0.\tEnter your Move [1, 2, 3]3\n",
            "Current Score: 6\tAI chose to add 3\n",
            "Current Score: 6.\tEnter your Move [1, 2, 3]3\n",
            "Current Score: 10\tAI chose to add 1\n",
            "Current Score: 10.\tEnter your Move [1, 2, 3]1\n",
            "Current Score: 14\tAI chose to add 3\n",
            "Better Luck Next Time!\n"
          ]
        }
      ]
    }
  ],
  "metadata": {
    "accelerator": "GPU",
    "colab": {
      "gpuType": "T4",
      "provenance": []
    },
    "kernelspec": {
      "display_name": "Python 3",
      "name": "python3"
    },
    "language_info": {
      "name": "python"
    }
  },
  "nbformat": 4,
  "nbformat_minor": 0
}