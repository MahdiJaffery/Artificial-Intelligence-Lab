{
 "cells": [
  {
   "cell_type": "code",
   "execution_count": 11,
   "metadata": {},
   "outputs": [
    {
     "name": "stdout",
     "output_type": "stream",
     "text": [
      "[83, 80, 62, 18, 72, 16, 83, 63, 43, 41]\n",
      "[18, 72, 63]\n"
     ]
    }
   ],
   "source": [
    "#   Question 1\n",
    "import random\n",
    "\n",
    "def checkDivisible(numArray, div):\n",
    "    print(\"[\", end=\"\")\n",
    "    for i in numArray:\n",
    "        if i % div == 0:\n",
    "            print(i, end=\", \")\n",
    "    print(\"\\b\\b]\")\n",
    "        \n",
    "\n",
    "numArray = []\n",
    "\n",
    "for i in range(10):\n",
    "    numArray.append(random.randint(1, 100))\n",
    "\n",
    "print(numArray)\n",
    "checkDivisible(numArray, 3)\n",
    "\n"
   ]
  },
  {
   "cell_type": "code",
   "execution_count": 13,
   "metadata": {},
   "outputs": [
    {
     "data": {
      "text/plain": [
       "'abcfghdeij'"
      ]
     },
     "execution_count": 13,
     "metadata": {},
     "output_type": "execute_result"
    }
   ],
   "source": [
    "#   Question 2\n",
    "\n",
    "def assignSplit(string):\n",
    "    if len(string) % 2:\n",
    "        return string[:len(string)//2+1], string[len(string)//2+1:]\n",
    "    return string[:len(string)//2], string[len(string)//2:]\n",
    "\n",
    "def splitAndMerge(strOne, strTwo):\n",
    "    oneFront, oneBack = assignSplit(strOne)\n",
    "    twoFront, twoBack = assignSplit(strTwo)\n",
    "\n",
    "    return oneFront + twoFront + oneBack + twoBack\n",
    "\n",
    "splitAndMerge(\"abcde\", \"fghij\")\n"
   ]
  },
  {
   "cell_type": "code",
   "execution_count": 93,
   "metadata": {},
   "outputs": [
    {
     "name": "stdout",
     "output_type": "stream",
     "text": [
      "[(1, 9), (3, 4), (5, 6, 1), (4, 5)]\n",
      "[(5, 6, 1), (3, 4), (4, 5), (1, 9)]\n"
     ]
    }
   ],
   "source": [
    "#   Question 3\n",
    "\n",
    "myList = [(1, 9), (3, 4), (5, 6, 1), (4, 5)]\n",
    "\n",
    "def sortList(myList):\n",
    "    for i in range(len(myList)):\n",
    "        for j in range(len(myList)):\n",
    "            if myList[i][len(myList[i]) - 1] < myList[j][len(myList[j]) - 1]:\n",
    "                myList[i], myList[j] = myList[j], myList[i]\n",
    "\n",
    "    return myList\n",
    "\n",
    "print(myList)\n",
    "print(sortList(myList))    "
   ]
  },
  {
   "cell_type": "code",
   "execution_count": 27,
   "metadata": {},
   "outputs": [
    {
     "name": "stdout",
     "output_type": "stream",
     "text": [
      "(10, 8, 3, 10, 2)\n",
      "(80, 24, 30, 20)\n"
     ]
    }
   ],
   "source": [
    "#   Question 4\n",
    "\n",
    "myTuple = ()\n",
    "\n",
    "for i in range(5):\n",
    "    myTuple += (random.randint(1, 10),)\n",
    "\n",
    "resultTuple = ()\n",
    "\n",
    "for i in range(len(myTuple) - 1):\n",
    "    resultTuple += (myTuple[i] * myTuple[i + 1],)\n",
    "\n",
    "print(myTuple)\n",
    "print(resultTuple)"
   ]
  },
  {
   "cell_type": "code",
   "execution_count": 32,
   "metadata": {},
   "outputs": [
    {
     "name": "stdout",
     "output_type": "stream",
     "text": [
      "[1, 2, 3, 4, 5, 6, 7, 8, 9, 10]\n",
      "Searching for 5\n",
      "Element found at index  4\n"
     ]
    }
   ],
   "source": [
    "#`  Question 5\n",
    "\n",
    "def binarySearch(myArr, target):\n",
    "    start = 0\n",
    "    end = len(myArr) - 1\n",
    "\n",
    "    while start <= end:\n",
    "        mid = (start + end) // 2\n",
    "        if myArr[mid] == target:\n",
    "            return mid\n",
    "        elif myArr[mid] < target:\n",
    "            start = mid\n",
    "        else:\n",
    "            end = mid\n",
    "    \n",
    "    return -1\n",
    "\n",
    "myArr = [1, 2, 3, 4, 5, 6, 7, 8, 9, 10]\n",
    "\n",
    "print(myArr)\n",
    "index = binarySearch(myArr, 5)\n",
    "print(\"Searching for 5\")\n",
    "\n",
    "if index != -1:\n",
    "    print(\"Element found at index \", index)\n",
    "else:\n",
    "    print(\"Element not found\")\n"
   ]
  },
  {
   "cell_type": "code",
   "execution_count": 50,
   "metadata": {},
   "outputs": [
    {
     "name": "stdout",
     "output_type": "stream",
     "text": [
      "[7, 5, 1, 10, 10, 7, 7, 10, 2, 8]\n",
      "{7: 3, 5: 1, 1: 1, 10: 3, 2: 1, 8: 1}\n"
     ]
    }
   ],
   "source": [
    "#   Question 6\n",
    "\n",
    "myDict = {}\n",
    "\n",
    "myArr = []\n",
    "\n",
    "for i in range(10):\n",
    "    myArr.append(random.randint(1, 10))\n",
    "\n",
    "for i in myArr:\n",
    "    if myDict.get(i) == None:\n",
    "        myDict[i] = 1\n",
    "    else:\n",
    "        myDict[i] += 1\n",
    "\n",
    "print(myArr)\n",
    "print(myDict)"
   ]
  },
  {
   "cell_type": "code",
   "execution_count": 105,
   "metadata": {},
   "outputs": [
    {
     "name": "stdout",
     "output_type": "stream",
     "text": [
      "[1, 7, 2, 2]\n",
      "c, d\n",
      "[1, 7, 2, 7, 7]\n",
      "b, d, e\n"
     ]
    }
   ],
   "source": [
    "#   Question 7\n",
    "\n",
    "def frequency(myDict):\n",
    "    maxCount = 0\n",
    "    maxVal = 0\n",
    "    tempArr = []\n",
    "\n",
    "    for key, value in myDict.items():\n",
    "        tempArr.append(value)\n",
    "        \n",
    "    for val in tempArr:\n",
    "        if tempArr.count(val) > maxCount:\n",
    "            maxCount = val\n",
    "            maxVal = val\n",
    "    print(tempArr)\n",
    "    if len(tempArr) == 1:\n",
    "        for key, value in myDict.items():\n",
    "            print(key, end=\", \")\n",
    "    else:\n",
    "        for key, value in myDict.items():\n",
    "            if value == maxCount:\n",
    "                print(key, end=\", \")\n",
    "\n",
    "    print(\"\\b\\b\")\n",
    "\n",
    "    \n",
    "myDict = {'a':1, 'b':7, 'c':2, 'd':2}\n",
    "myDictTwo = {'a':1, 'b':7, 'c':2, 'd':7, 'e':7}\n",
    "frequency(myDict)\n",
    "frequency(myDictTwo)"
   ]
  },
  {
   "cell_type": "code",
   "execution_count": 84,
   "metadata": {},
   "outputs": [
    {
     "name": "stdout",
     "output_type": "stream",
     "text": [
      "{'name': 'Alice', 'age': 25}\n",
      "{'name': 'Bob', 'age': 25}\n"
     ]
    }
   ],
   "source": [
    "#   Question 8\n",
    "\n",
    "listOfDict = [{'name': 'Alice', 'age': 25}, {'name': 'Bob', 'age': 25}, {'name': 'Charlie', 'age': 35}]\n",
    "\n",
    "userKey = str(input(\"Enter key to find (name, age): \"))\n",
    "userValue = str(input(\"Enter value to find: \"))\n",
    "\n",
    "userKey = userKey.lower()\n",
    "\n",
    "if userKey == 'age':\n",
    "    userValue = int(userValue)\n",
    "else:\n",
    "    userValue = userValue.capitalize()\n",
    "\n",
    "for dict in listOfDict:\n",
    "    for key, value in dict.items():\n",
    "        if userKey == key and userValue == value:\n",
    "            print(dict)\n"
   ]
  },
  {
   "cell_type": "code",
   "execution_count": null,
   "metadata": {},
   "outputs": [
    {
     "name": "stdout",
     "output_type": "stream",
     "text": [
      "Cannot divide by zero\n"
     ]
    }
   ],
   "source": [
    "#   Question 9\n",
    "\n",
    "numOne = int(input(\"Enter first number: \"))\n",
    "numTwo = int(input(\"Enter second number: \"))\n",
    "\n",
    "operators = {\n",
    "    '+': numOne + numTwo,\n",
    "    '-': numOne - numTwo,\n",
    "    '*': numOne * numTwo\n",
    "}\n",
    "\n",
    "userOperator = str(input(\"Enter operator (+, -, *, /): \"))\n",
    "\n",
    "if userOperator == '/':\n",
    "    try:\n",
    "        print(numOne / numTwo)\n",
    "    except ZeroDivisionError:\n",
    "        print(\"Cannot divide by zero\")\n",
    "else:\n",
    "    print(operators[userOperator])"
   ]
  }
 ],
 "metadata": {
  "kernelspec": {
   "display_name": "Python 3",
   "language": "python",
   "name": "python3"
  },
  "language_info": {
   "codemirror_mode": {
    "name": "ipython",
    "version": 3
   },
   "file_extension": ".py",
   "mimetype": "text/x-python",
   "name": "python",
   "nbconvert_exporter": "python",
   "pygments_lexer": "ipython3",
   "version": "3.10.12"
  }
 },
 "nbformat": 4,
 "nbformat_minor": 2
}
