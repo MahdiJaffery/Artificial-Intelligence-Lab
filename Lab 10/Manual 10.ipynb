{
  "cells": [
    {
      "cell_type": "code",
      "execution_count": 7,
      "metadata": {
        "colab": {
          "base_uri": "https://localhost:8080/"
        },
        "id": "pT2Qb8cFJODw",
        "outputId": "4fcbe947-3af8-4f49-ca1c-50c35f1cda2f"
      },
      "outputs": [
        {
          "name": "stdout",
          "output_type": "stream",
          "text": [
            "Train shape: X=(120, 4), y=(120, 3)\n",
            "Test shape: X=(30, 4), y=(30, 3)\n",
            "\n",
            "Example forward pass outputs:\n",
            "Hidden layer activations (first 5 samples):\n",
            "[[0.13748791 0.         0.17661506 0.         0.         0.17887148\n",
            "  0.         0.        ]\n",
            " [0.         0.         0.         0.         0.0179482  0.2434836\n",
            "  0.00398705 0.04640616]\n",
            " [0.01102419 0.         0.01834997 0.13041466 0.02946146 0.06512068\n",
            "  0.27334324 0.08681362]\n",
            " [0.14737567 0.         0.20450894 0.         0.         0.07915673\n",
            "  0.         0.        ]\n",
            " [0.01842331 0.         0.00476897 0.         0.         0.24823646\n",
            "  0.14855948 0.04516096]]\n",
            "Output probabilities (first 5 samples):\n",
            "[[0.33362598 0.3335644  0.33280963]\n",
            " [0.34221793 0.33734292 0.32043915]\n",
            " [0.34020589 0.33338557 0.32640853]\n",
            " [0.32862394 0.33197697 0.33939909]\n",
            " [0.3454107  0.33602456 0.31856475]]\n"
          ]
        }
      ],
      "source": [
        "import numpy as np\n",
        "from sklearn.datasets import load_iris\n",
        "from sklearn.preprocessing import StandardScaler, OneHotEncoder\n",
        "from sklearn.model_selection import train_test_split\n",
        "\n",
        "iris = load_iris()\n",
        "X = iris.data\n",
        "y = iris.target.reshape(-1, 1)\n",
        "\n",
        "scaler = StandardScaler()\n",
        "X_scaled = scaler.fit_transform(X)\n",
        "\n",
        "encoder = OneHotEncoder()\n",
        "y_onehot = encoder.fit_transform(y)\n",
        "\n",
        "X_train, X_test, y_train, y_test = train_test_split(\n",
        "    X_scaled, y_onehot, test_size=0.2, random_state=42, stratify=y\n",
        ")\n",
        "\n",
        "print(f\"Train shape: X={X_train.shape}, y={y_train.shape}\")\n",
        "print(f\"Test shape: X={X_test.shape}, y={y_test.shape}\")\n",
        "\n",
        "def relu(z):\n",
        "    return np.maximum(0, z)\n",
        "\n",
        "def softmax(z):\n",
        "    exp_z = np.exp(z - np.max(z, axis=1, keepdims=True))\n",
        "    return exp_z / np.sum(exp_z, axis=1, keepdims=True)\n",
        "\n",
        "input_size = 4\n",
        "hidden_size = 8\n",
        "output_size = 3\n",
        "\n",
        "np.random.seed(42)\n",
        "W1 = np.random.randn(input_size, hidden_size) * 0.1\n",
        "b1 = np.zeros((1, hidden_size))\n",
        "\n",
        "W2 = np.random.randn(hidden_size, output_size) * 0.1\n",
        "b2 = np.zeros((1, output_size))\n",
        "\n",
        "def forward_pass(X):\n",
        "    z1 = np.dot(X, W1) + b1\n",
        "    a1 = relu(z1)\n",
        "\n",
        "    z2 = np.dot(a1, W2) + b2\n",
        "    a2 = softmax(z2)\n",
        "\n",
        "    return a1, a2\n",
        "\n",
        "hidden_activation, output_probs = forward_pass(X_train)\n",
        "\n",
        "print(\"\\nExample forward pass outputs:\")\n",
        "print(f\"Hidden layer activations (first 5 samples):\\n{hidden_activation[:5]}\")\n",
        "print(f\"Output probabilities (first 5 samples):\\n{output_probs[:5]}\")\n"
      ]
    }
  ],
  "metadata": {
    "colab": {
      "provenance": []
    },
    "kernelspec": {
      "display_name": "Python 3",
      "name": "python3"
    },
    "language_info": {
      "name": "python"
    }
  },
  "nbformat": 4,
  "nbformat_minor": 0
}
